{
 "cells": [
  {
   "cell_type": "markdown",
   "metadata": {},
   "source": [
    "## This notebook is for the MIT class 6.438 (Algorithms for Inference). We use PyMC3 to demonstrate how MCMC methods are used in practice, starting with some basic examples then demonstrating an example application: Gelman et. al.'s (2007) radon dataset, taken from the [PyMC3 examples](https://docs.pymc.io/notebooks/Diagnosing_biased_Inference_with_Divergences.html)"
   ]
  },
  {
   "cell_type": "markdown",
   "metadata": {},
   "source": [
    "# Setup"
   ]
  },
  {
   "cell_type": "markdown",
   "metadata": {},
   "source": [
    "### Plotting"
   ]
  },
  {
   "cell_type": "code",
   "execution_count": 1,
   "metadata": {},
   "outputs": [],
   "source": [
    "import matplotlib.pyplot as plt\n",
    "import seaborn as sns\n",
    "import matplotlib as mpl\n",
    "%matplotlib inline\n",
    "sns.set()\n",
    "mpl.rcParams['figure.figsize'] = (10, 3)"
   ]
  },
  {
   "cell_type": "markdown",
   "metadata": {},
   "source": [
    "### Data manipulation"
   ]
  },
  {
   "cell_type": "code",
   "execution_count": 2,
   "metadata": {},
   "outputs": [],
   "source": [
    "import numpy as np\n",
    "import pymc3 as pm\n",
    "import pandas as pd\n"
   ]
  },
  {
   "cell_type": "markdown",
   "metadata": {},
   "source": [
    "### Other"
   ]
  },
  {
   "cell_type": "code",
   "execution_count": 3,
   "metadata": {},
   "outputs": [],
   "source": [
    "SEED = 1729\n",
    "import random\n",
    "random.seed(SEED)\n",
    "np.random.seed(SEED)\n",
    "import operator as op"
   ]
  },
  {
   "cell_type": "markdown",
   "metadata": {},
   "source": [
    "# Hypercube Example"
   ]
  },
  {
   "cell_type": "markdown",
   "metadata": {},
   "source": [
    "#### Model/Sampler Parameters"
   ]
  },
  {
   "cell_type": "code",
   "execution_count": 4,
   "metadata": {},
   "outputs": [],
   "source": [
    "dims = 10\n",
    "nsamples = 1000"
   ]
  },
  {
   "cell_type": "markdown",
   "metadata": {},
   "source": [
    "#### MCMC Steps: normally, we should just use the built-in methods, but since we're doing something much simpler than one would do in practice, we need to define the method ourselves"
   ]
  },
  {
   "cell_type": "code",
   "execution_count": 5,
   "metadata": {},
   "outputs": [],
   "source": [
    "class HypercubeMetropolis(pm.Metropolis):\n",
    "    def __init__(self, stochastic):\n",
    "        pm.Metropolis.__init__(self, stochastic, scale=1., proposal_sd='custom',\n",
    "            proposal_distribution='custom', verbose=None, tally=False)\n",
    "\n",
    "    def astep(self, q0):\n",
    "        ix = np.random.randint(len(q0))\n",
    "        newval = np.random.binomial(1, .5)\n",
    "        q_new = q0.copy()\n",
    "        q_new[ix] = newval\n",
    "        return q_new, []"
   ]
  },
  {
   "cell_type": "markdown",
   "metadata": {},
   "source": [
    "#### Sample starting with all 0's to show how it takes the chain a while to mix. Turn off tuning for now so we see all the samples."
   ]
  },
  {
   "cell_type": "code",
   "execution_count": 6,
   "metadata": {},
   "outputs": [
    {
     "name": "stderr",
     "output_type": "stream",
     "text": [
      "Sequential sampling (1 chains in 1 job)\n",
      "HypercubeMetropolis: [coords]\n",
      "100%|██████████| 1000/1000 [00:00<00:00, 1934.80it/s]\n",
      "Only one chain was sampled, this makes it impossible to run some convergence checks\n"
     ]
    }
   ],
   "source": [
    "with pm.Model() as model:\n",
    "    coords = pm.Bernoulli('coords', p=.5, shape=[dims])\n",
    "    start = {'coords': np.zeros(dims)}\n",
    "    samples = pm.sample(nsamples, step=HypercubeMetropolis(coords), start=start, chains=1, tune=False, random_seed=SEED)\n",
    "s1 = samples.get_values('coords', chains=[0])"
   ]
  },
  {
   "cell_type": "markdown",
   "metadata": {},
   "source": [
    "#### Use Hoeffding's Inequality https://en.wikipedia.org/wiki/Hoeffding%27s_inequality to bound tail probabilities (i.e., probability the mean deviates from its expected value). This lets us convince ourselves that the first few samples are indeed atypical."
   ]
  },
  {
   "cell_type": "code",
   "execution_count": 7,
   "metadata": {},
   "outputs": [],
   "source": [
    "confidence = .80\n",
    "k = np.sqrt(-np.log((1-confidence)/2)/2/dims)\n",
    "low = .5 - k\n",
    "high = .5 + k"
   ]
  },
  {
   "cell_type": "code",
   "execution_count": 8,
   "metadata": {},
   "outputs": [
    {
     "data": {
      "image/png": "[encoded data removed]",
      "text/plain": [
       "<Figure size 432x288 with 1 Axes>"
      ]
     },
     "metadata": {
      "needs_background": "light"
     },
     "output_type": "display_data"
    }
   ],
   "source": [
    "plt.fill_between(np.arange(nsamples), low, high, alpha=.5, color='red', label='%s%% Confidence Interval' % (int(confidence*100)))\n",
    "plt.xlabel('Iteration')\n",
    "plt.ylabel('Mean')\n",
    "plt.plot(np.arange(nsamples), s1.mean(axis=1));\n",
    "plt.legend();"
   ]
  },
  {
   "cell_type": "markdown",
   "metadata": {},
   "source": [
    "#### Check numerically that we indeed have most of our samples in the confidence interval"
   ]
  },
  {
   "cell_type": "code",
   "execution_count": 9,
   "metadata": {},
   "outputs": [
    {
     "name": "stdout",
     "output_type": "stream",
     "text": [
      "977\n"
     ]
    }
   ],
   "source": [
    "in_conf = np.logical_and(s1.mean(axis=1) > low, s1.mean(axis=1) < high)\n",
    "print(sum(in_conf))"
   ]
  },
  {
   "cell_type": "markdown",
   "metadata": {},
   "source": [
    "#### A bit more realistic: run chains from multiple starting points. \n",
    "\n",
    "We need to do this in case the distribution is multimodal: a chain could appear to stabilize, but get stuck in a single \"mode\" of the distribution. If another chain is started from somewhere else, it's likely to find a different mode, and by comparing trace plots between the chains we might be able to tell that we haven't run our chains long enough."
   ]
  },
  {
   "cell_type": "code",
   "execution_count": 10,
   "metadata": {},
   "outputs": [],
   "source": [
    "nsamples = 50"
   ]
  },
  {
   "cell_type": "code",
   "execution_count": 11,
   "metadata": {},
   "outputs": [
    {
     "name": "stderr",
     "output_type": "stream",
     "text": [
      "Only 50 samples in chain.\n",
      "Multiprocess sampling (3 chains in 2 jobs)\n",
      "HypercubeMetropolis: [coords]\n",
      "Sampling 3 chains: 100%|██████████| 150/150 [00:00<00:00, 2796.04draws/s]\n",
      "/Users/chandlersquires/Documents/6438-mcmc-case-study/venv/lib/python3.6/site-packages/pymc3/sampling.py:476: UserWarning: The number of samples is too small to check convergence reliably.\n",
      "  warnings.warn(\"The number of samples is too small to check convergence reliably.\")\n"
     ]
    }
   ],
   "source": [
    "with pm.Model() as model:\n",
    "    coords = pm.Bernoulli('coords', p=.5, shape=[dims])\n",
    "    start = [{'coords': np.zeros(dims)}, {'coords': np.ones(dims)}, {'coords': np.random.binomial(1, .5, size=dims)}]\n",
    "    samples = pm.sample(nsamples, step=HypercubeMetropolis(coords), start=start, chains=3, random_seed=SEED, tune=False)\n",
    "s0 = samples.get_values('coords', chains=[0])\n",
    "s1 = samples.get_values('coords', chains=[1])\n",
    "s2 = samples.get_values('coords', chains=[2])"
   ]
  },
  {
   "cell_type": "code",
   "execution_count": 12,
   "metadata": {},
   "outputs": [
    {
     "data": {
      "image/png": "[encoded data removed]",
      "text/plain": [
       "<Figure size 432x288 with 1 Axes>"
      ]
     },
     "metadata": {
      "needs_background": "light"
     },
     "output_type": "display_data"
    }
   ],
   "source": [
    "plt.xlabel('Iterations')\n",
    "plt.ylabel('Mean')\n",
    "plt.plot(np.arange(nsamples), s0.mean(axis=1), label='Chain 0');\n",
    "plt.plot(np.arange(nsamples), s1.mean(axis=1), label='Chain 1');\n",
    "plt.plot(np.arange(nsamples), s2.mean(axis=1), label='Chain 2');\n",
    "plt.legend();"
   ]
  },
  {
   "cell_type": "markdown",
   "metadata": {},
   "source": [
    "# Gaussian Example"
   ]
  },
  {
   "cell_type": "markdown",
   "metadata": {},
   "source": [
    "#### Even more realistic: run chains from multiple starting points, with burn-in.\n",
    "\n",
    "If we're going to compute some statistic about our distribution, and the initial values are wildly atypical, it's better to leave them out. The hypercube example isn't great to illustrate this point so we'll switch to a normal distribution."
   ]
  },
  {
   "cell_type": "code",
   "execution_count": 13,
   "metadata": {},
   "outputs": [],
   "source": [
    "burn = 30\n",
    "nsamples = 100"
   ]
  },
  {
   "cell_type": "code",
   "execution_count": 14,
   "metadata": {},
   "outputs": [
    {
     "name": "stderr",
     "output_type": "stream",
     "text": [
      "Only 130 samples in chain.\n",
      "Multiprocess sampling (3 chains in 2 jobs)\n",
      "Metropolis: [x]\n",
      "Sampling 3 chains: 100%|██████████| 390/390 [00:00<00:00, 3770.29draws/s]\n",
      "The gelman-rubin statistic is larger than 1.05 for some parameters. This indicates slight problems during sampling.\n",
      "The number of effective samples is smaller than 10% for some parameters.\n"
     ]
    }
   ],
   "source": [
    "with pm.Model() as model:\n",
    "    x = pm.Normal('x', 0, 1)\n",
    "    start = [{'x': 10}, {'x': -10}, {'x': 0}]\n",
    "    samples = pm.sample(nsamples + burn, step=pm.Metropolis(x), start=start, chains=3, random_seed=SEED, tune=False)\n",
    "s0 = samples.get_values('x', chains=[0])\n",
    "s1 = samples.get_values('x', chains=[1])\n",
    "s2 = samples.get_values('x', chains=[2])"
   ]
  },
  {
   "cell_type": "code",
   "execution_count": 15,
   "metadata": {},
   "outputs": [
    {
     "data": {
      "image/png": "[encoded data removed]",
      "text/plain": [
       "<Figure size 432x288 with 1 Axes>"
      ]
     },
     "metadata": {
      "needs_background": "light"
     },
     "output_type": "display_data"
    }
   ],
   "source": [
    "plt.xlabel('Iterations')\n",
    "plt.ylabel('Mean')\n",
    "plt.plot(s0, label='Chain 0');\n",
    "plt.plot(s1, label='Chain 1');\n",
    "plt.plot(s2, label='Chain 2');\n",
    "plt.legend();"
   ]
  },
  {
   "cell_type": "code",
   "execution_count": 16,
   "metadata": {},
   "outputs": [
    {
     "name": "stdout",
     "output_type": "stream",
     "text": [
      "Mean without burn-in:\n",
      "1.110146259419762\n",
      "Mean with burn-in:\n",
      "0.07349531035888063\n"
     ]
    }
   ],
   "source": [
    "print('Mean without burn-in:')\n",
    "print(samples.get_values('x', chains=[0])[:nsamples].mean())\n",
    "print('Mean with burn-in:')\n",
    "print(samples.get_values('x', chains=[0], burn=burn).mean())"
   ]
  },
  {
   "cell_type": "markdown",
   "metadata": {},
   "source": [
    "#### Running multiple chains also allows us to compute $\\hat{R}$ (pronounced \"R hat\", also known as the Rubin-Gelman statistic or the \"potential scale reduction factor\"), which can help use tell whether we've run the chains long enough. We want $\\hat{R} \\approx 1$, the recommendation is to run the chains at least long enough so that $\\hat{R} < 1.1$"
   ]
  },
  {
   "cell_type": "markdown",
   "metadata": {},
   "source": [
    "I won't write out the exact formula of $\\hat{R}$: the details are less important than the idea. $\\hat{R}$ compares the variance of the samples from a single chain (the within-chain variance) to the variance of the samples from all the chains (the between-chain variance). Assume that our initialization is \"overdispersed\" (i.e., our starting values have more variety than the true distribution). Then, if the chains haven't converged, the between-chain variance will be overestimated, since it includes these initializations. Meanwhile, the within-chain variance will be underestimated, since they haven't had time to explore the whole distribution. $\\hat{R}$ basically takes a ratio of the between-chain variance and the average within-chain variance (with some adjustments to account for the fact that these are just estimates of the variance). If the chains have converged, both ways of estimating the variance will be unbiased, so $\\hat{R}$ will be close to 1."
   ]
  },
  {
   "cell_type": "code",
   "execution_count": 17,
   "metadata": {},
   "outputs": [
    {
     "data": {
      "text/html": [
       "<div>\n",
       "<style scoped>\n",
       "    .dataframe tbody tr th:only-of-type {\n",
       "        vertical-align: middle;\n",
       "    }\n",
       "\n",
       "    .dataframe tbody tr th {\n",
       "        vertical-align: top;\n",
       "    }\n",
       "\n",
       "    .dataframe thead th {\n",
       "        text-align: right;\n",
       "    }\n",
       "</style>\n",
       "<table border=\"1\" class=\"dataframe\">\n",
       "  <thead>\n",
       "    <tr style=\"text-align: right;\">\n",
       "      <th></th>\n",
       "      <th>mean</th>\n",
       "      <th>sd</th>\n",
       "      <th>mc_error</th>\n",
       "      <th>hpd_2.5</th>\n",
       "      <th>hpd_97.5</th>\n",
       "      <th>n_eff</th>\n",
       "      <th>Rhat</th>\n",
       "    </tr>\n",
       "  </thead>\n",
       "  <tbody>\n",
       "    <tr>\n",
       "      <th>x</th>\n",
       "      <td>-0.017265</td>\n",
       "      <td>1.006188</td>\n",
       "      <td>0.090827</td>\n",
       "      <td>-1.909887</td>\n",
       "      <td>1.890778</td>\n",
       "      <td>14.576145</td>\n",
       "      <td>1.084239</td>\n",
       "    </tr>\n",
       "  </tbody>\n",
       "</table>\n",
       "</div>"
      ],
      "text/plain": [
       "       mean        sd  mc_error   hpd_2.5  hpd_97.5      n_eff      Rhat\n",
       "x -0.017265  1.006188  0.090827 -1.909887  1.890778  14.576145  1.084239"
      ]
     },
     "execution_count": 17,
     "metadata": {},
     "output_type": "execute_result"
    }
   ],
   "source": [
    "pm.summary(samples, start=burn)"
   ]
  },
  {
   "cell_type": "markdown",
   "metadata": {},
   "source": [
    "# Gaussian Mixture Model"
   ]
  },
  {
   "cell_type": "markdown",
   "metadata": {},
   "source": [
    "#### Now we can actually see a case where multiple chains comes in handy"
   ]
  },
  {
   "cell_type": "code",
   "execution_count": 18,
   "metadata": {
    "scrolled": true
   },
   "outputs": [
    {
     "name": "stderr",
     "output_type": "stream",
     "text": [
      "Only 130 samples in chain.\n",
      "Multiprocess sampling (3 chains in 2 jobs)\n",
      "Metropolis: [x]\n",
      "Sampling 3 chains: 100%|██████████| 390/390 [00:00<00:00, 4189.28draws/s]\n",
      "The gelman-rubin statistic is larger than 1.4 for some parameters. The sampler did not converge.\n",
      "The number of effective samples is smaller than 10% for some parameters.\n"
     ]
    }
   ],
   "source": [
    "with pm.Model() as model:\n",
    "    x = pm.NormalMixture('x', [.5, .5], [-3, 3])\n",
    "    start = [{'x': 10}, {'x': -10}, {'x': 0}]\n",
    "    samples = pm.sample(nsamples + burn, step=pm.Metropolis(x), start=start, chains=3, random_seed=SEED, tune=False)\n",
    "s0 = samples.get_values('x', chains=[0])\n",
    "s1 = samples.get_values('x', chains=[1])\n",
    "s2 = samples.get_values('x', chains=[2])"
   ]
  },
  {
   "cell_type": "code",
   "execution_count": 19,
   "metadata": {},
   "outputs": [
    {
     "data": {
      "image/png": "[encoded data removed]",
      "text/plain": [
       "<Figure size 432x288 with 1 Axes>"
      ]
     },
     "metadata": {
      "needs_background": "light"
     },
     "output_type": "display_data"
    }
   ],
   "source": [
    "plt.xlabel('Iterations')\n",
    "plt.ylabel('Mean')\n",
    "plt.plot(s0, label='Chain 0');\n",
    "plt.plot(s1, label='Chain 1');\n",
    "plt.plot(s2, label='Chain 2');\n",
    "plt.legend();"
   ]
  },
  {
   "cell_type": "code",
   "execution_count": 20,
   "metadata": {},
   "outputs": [
    {
     "data": {
      "text/html": [
       "<div>\n",
       "<style scoped>\n",
       "    .dataframe tbody tr th:only-of-type {\n",
       "        vertical-align: middle;\n",
       "    }\n",
       "\n",
       "    .dataframe tbody tr th {\n",
       "        vertical-align: top;\n",
       "    }\n",
       "\n",
       "    .dataframe thead th {\n",
       "        text-align: right;\n",
       "    }\n",
       "</style>\n",
       "<table border=\"1\" class=\"dataframe\">\n",
       "  <thead>\n",
       "    <tr style=\"text-align: right;\">\n",
       "      <th></th>\n",
       "      <th>mean</th>\n",
       "      <th>sd</th>\n",
       "      <th>mc_error</th>\n",
       "      <th>hpd_2.5</th>\n",
       "      <th>hpd_97.5</th>\n",
       "      <th>n_eff</th>\n",
       "      <th>Rhat</th>\n",
       "    </tr>\n",
       "  </thead>\n",
       "  <tbody>\n",
       "    <tr>\n",
       "      <th>x</th>\n",
       "      <td>-0.918809</td>\n",
       "      <td>3.450428</td>\n",
       "      <td>0.357611</td>\n",
       "      <td>-4.91442</td>\n",
       "      <td>5.089635</td>\n",
       "      <td>1.778746</td>\n",
       "      <td>3.040727</td>\n",
       "    </tr>\n",
       "  </tbody>\n",
       "</table>\n",
       "</div>"
      ],
      "text/plain": [
       "       mean        sd  mc_error  hpd_2.5  hpd_97.5     n_eff      Rhat\n",
       "x -0.918809  3.450428  0.357611 -4.91442  5.089635  1.778746  3.040727"
      ]
     },
     "execution_count": 20,
     "metadata": {},
     "output_type": "execute_result"
    }
   ],
   "source": [
    "pm.summary(samples)"
   ]
  },
  {
   "cell_type": "markdown",
   "metadata": {},
   "source": [
    "# MCMC in Practice"
   ]
  },
  {
   "cell_type": "markdown",
   "metadata": {},
   "source": [
    "So far, we've only seen MCMC on some distributions that are already very easy to sample from, which is good for building some intutition, but of we'd never use MCMC in these cases.\n",
    "\n",
    "A common case where MCMC methods come in handy is in Bayesian inference, which is built around the idea of a *generative model*. This is a probabilistic model that's meant to explain how some collected data was generated; involving some *latent (i.e., unobserved) variables*. Some examples:\n",
    "* A trader might model the daily returns on a stock (the observed data) as a function of two latent variables: the true daily increase in the value of the stock, and market volatility, which is shared across many stocks.\n",
    "* An internet search company that wants to return webpages for keyword searches might model each webpage as a mixture of topics, each topic itself being a mixture of words\n",
    "* A medical researcher interested in the effectiveness of a treatment (say, mastectomy as a treatment for breast cancer) in terms of survival time after the treatment. The survival time might be modeled as a linear function of the patient covariates (e.g. age, income, disease progression), but the survival time is only lower-bounded for patients who survive for the whole time they are monitored.\n",
    "\n",
    "Each of the latent variables will have a *prior distribution* that is based on domain expertise and represents the beliefs of the modeler before the data is taken into account. For example, the trader might expect the daily increases of stocks to be independent and centered around 0, and the volatility on any day to be the sum of the volatility the day before plus some 0-mean noise.\n",
    "\n",
    "The goal of the researcher is to determine the *posterior distribution* of the latent variables: the distribution after conditioning on the observed data. If the latent variables are denoted by $\\Theta$, and the observed variables are denoted as $X$, the posterior distribution will be \n",
    "$$p(\\Theta | X) = \\frac{p(\\Theta) p(X | \\Theta)}{p(X)}$$\n",
    "where $p(\\Theta)$ is the prior and $p(X | \\Theta)$ is the likelihood model, both usually specified in closed form. As we've seen, the difficulty lies in computing the normalization constant $p(X)$, which is in this case usually called the *evidence*. One method we've seen is variational inference: we can lower bound $p(X)$ be optimizing over a simpler model class, such as all variables being independent. In this context, the the lower bound on $p(X)$ is called the *evidence lower bound (ELBO)*. The downside of these methods is that they can only ever give approximations; MCMC methods on the other hand can provide samples from the true distribution if the chains are run for long enough.\n",
    "\n",
    " PyMC3 (along with other popular probabilistic programming libraries/languages, such as Edward and Stan) make it easy to specify a model, feed in data, and run either variational or MCMC methods to determine posteriors. This takes the burden off of the user to implement the algorithms themselves, but it is still important to know how to check the results of these models. In most applied settings, there are no proofs on mixing time, so diagnostic criteria (like those discussed above) must be used instead."
   ]
  },
  {
   "cell_type": "markdown",
   "metadata": {},
   "source": [
    "## Case Study: Radon Concentration"
   ]
  },
  {
   "cell_type": "markdown",
   "metadata": {},
   "source": [
    "Radon is a radioactive gas, known to be the highest cause of lung-cancer in non-smokers. It is found in varying degrees in different households, and the concentration is believed to depend on soil composition, and to be higher in houses with a basement. This dataset is from households in all 85 counties of Minnesota, with between 2 and 116 measurements per county. We'll try out two simple models to predict the radon levels of a household. For some reason, floor=0 denotes that there's a basement, and floor=1 denotes that there isn't a basement. "
   ]
  },
  {
   "cell_type": "markdown",
   "metadata": {},
   "source": [
    "#### Get the dataset and check out the relevant features"
   ]
  },
  {
   "cell_type": "code",
   "execution_count": 21,
   "metadata": {},
   "outputs": [
    {
     "data": {
      "text/html": [
       "<div>\n",
       "<style scoped>\n",
       "    .dataframe tbody tr th:only-of-type {\n",
       "        vertical-align: middle;\n",
       "    }\n",
       "\n",
       "    .dataframe tbody tr th {\n",
       "        vertical-align: top;\n",
       "    }\n",
       "\n",
       "    .dataframe thead th {\n",
       "        text-align: right;\n",
       "    }\n",
       "</style>\n",
       "<table border=\"1\" class=\"dataframe\">\n",
       "  <thead>\n",
       "    <tr style=\"text-align: right;\">\n",
       "      <th></th>\n",
       "      <th>county</th>\n",
       "      <th>log_radon</th>\n",
       "      <th>floor</th>\n",
       "    </tr>\n",
       "  </thead>\n",
       "  <tbody>\n",
       "    <tr>\n",
       "      <th>0</th>\n",
       "      <td>AITKIN</td>\n",
       "      <td>0.832909</td>\n",
       "      <td>1.0</td>\n",
       "    </tr>\n",
       "    <tr>\n",
       "      <th>1</th>\n",
       "      <td>AITKIN</td>\n",
       "      <td>0.832909</td>\n",
       "      <td>0.0</td>\n",
       "    </tr>\n",
       "    <tr>\n",
       "      <th>2</th>\n",
       "      <td>AITKIN</td>\n",
       "      <td>1.098612</td>\n",
       "      <td>0.0</td>\n",
       "    </tr>\n",
       "    <tr>\n",
       "      <th>3</th>\n",
       "      <td>AITKIN</td>\n",
       "      <td>0.095310</td>\n",
       "      <td>0.0</td>\n",
       "    </tr>\n",
       "    <tr>\n",
       "      <th>4</th>\n",
       "      <td>ANOKA</td>\n",
       "      <td>1.163151</td>\n",
       "      <td>0.0</td>\n",
       "    </tr>\n",
       "  </tbody>\n",
       "</table>\n",
       "</div>"
      ],
      "text/plain": [
       "   county  log_radon  floor\n",
       "0  AITKIN   0.832909    1.0\n",
       "1  AITKIN   0.832909    0.0\n",
       "2  AITKIN   1.098612    0.0\n",
       "3  AITKIN   0.095310    0.0\n",
       "4   ANOKA   1.163151    0.0"
      ]
     },
     "execution_count": 21,
     "metadata": {},
     "output_type": "execute_result"
    }
   ],
   "source": [
    "data = pd.read_csv(pm.get_data('radon.csv'))\n",
    "data[['county', 'log_radon', 'floor']].head()"
   ]
  },
  {
   "cell_type": "markdown",
   "metadata": {},
   "source": [
    "#### Divide data by county"
   ]
  },
  {
   "cell_type": "code",
   "execution_count": 22,
   "metadata": {},
   "outputs": [],
   "source": [
    "county_names = data.county.unique()\n",
    "county_idx = data.county_code.values\n",
    "n_counties = len(county_names)"
   ]
  },
  {
   "cell_type": "markdown",
   "metadata": {},
   "source": [
    "### First model: separate linear regressions for each county"
   ]
  },
  {
   "cell_type": "code",
   "execution_count": 23,
   "metadata": {},
   "outputs": [],
   "source": [
    "with pm.Model() as unpooled_model:\n",
    "    # Independent parameters for each county\n",
    "    a = pm.Normal('a', 0, sd=100, shape=n_counties)\n",
    "    b = pm.Normal('b', 0, sd=100, shape=n_counties)\n",
    "\n",
    "    # Model error\n",
    "    eps = pm.HalfCauchy('eps', 5)\n",
    "\n",
    "    # Model prediction of radon level\n",
    "    radon_est = a[county_idx] + b[county_idx]*data.floor.values\n",
    "\n",
    "    # Data likelihood\n",
    "    y = pm.Normal('y', radon_est, sd=eps, observed=data.log_radon)"
   ]
  },
  {
   "cell_type": "markdown",
   "metadata": {},
   "source": [
    "#### We can visualize the model in what is called *plate notation*. As always, an oval represents a variable. A variable is a function of all of its parents. A plate (rectangle) with $n$ in the corner is shorthand for there being $n$ conditionally independent copies of the variable. Shading represents that the variable has been observed."
   ]
  },
  {
   "cell_type": "markdown",
   "metadata": {},
   "source": [
    "In this case, we have 85 separate i.i.d. linear coefficients $a$ and $b$, and 919 separate observed radon levels, each of which is normal with mean $a_i$ if there is a basement and $a_i + b_i$ if there is not a basement (where $i$ is the index of the county). This is a slight abuse of the plate notation as described above (since it's not clear from the notation how individual $y$'s are associated to $a_i$'s and $b_i$'s), but it gets the point across."
   ]
  },
  {
   "cell_type": "code",
   "execution_count": 24,
   "metadata": {},
   "outputs": [
    {
     "data": {
      "image/svg+xml": [
       "<?xml version=\"1.0\" encoding=\"UTF-8\" standalone=\"no\"?>\n",
       "<!DOCTYPE svg PUBLIC \"-//W3C//DTD SVG 1.1//EN\"\n",
       " \"http://www.w3.org/Graphics/SVG/1.1/DTD/svg11.dtd\">\n",
       "<!-- Generated by graphviz version 2.40.1 (20161225.0304)\n",
       " -->\n",
       "<!-- Title: %3 Pages: 1 -->\n",
       "<svg width=\"410pt\" height=\"180pt\"\n",
       " viewBox=\"0.00 0.00 409.83 180.00\" xmlns=\"http://www.w3.org/2000/svg\" xmlns:xlink=\"http://www.w3.org/1999/xlink\">\n",
       "<g id=\"graph0\" class=\"graph\" transform=\"scale(1 1) rotate(0) translate(4 176)\">\n",
       "<title>%3</title>\n",
       "<polygon fill=\"#ffffff\" stroke=\"transparent\" points=\"-4,4 -4,-176 405.829,-176 405.829,4 -4,4\"/>\n",
       "<g id=\"clust1\" class=\"cluster\">\n",
       "<title>cluster85</title>\n",
       "<path fill=\"none\" stroke=\"#000000\" d=\"M20,-90C20,-90 232,-90 232,-90 238,-90 244,-96 244,-102 244,-102 244,-152 244,-152 244,-158 238,-164 232,-164 232,-164 20,-164 20,-164 14,-164 8,-158 8,-152 8,-152 8,-102 8,-102 8,-96 14,-90 20,-90\"/>\n",
       "<text text-anchor=\"middle\" x=\"229\" y=\"-96.8\" font-family=\"Times,serif\" font-size=\"14.00\" fill=\"#000000\">85</text>\n",
       "</g>\n",
       "<g id=\"clust2\" class=\"cluster\">\n",
       "<title>cluster919</title>\n",
       "<path fill=\"none\" stroke=\"#000000\" d=\"M139,-8C139,-8 233,-8 233,-8 239,-8 245,-14 245,-20 245,-20 245,-70 245,-70 245,-76 239,-82 233,-82 233,-82 139,-82 139,-82 133,-82 127,-76 127,-70 127,-70 127,-20 127,-20 127,-14 133,-8 139,-8\"/>\n",
       "<text text-anchor=\"middle\" x=\"226.5\" y=\"-14.8\" font-family=\"Times,serif\" font-size=\"14.00\" fill=\"#000000\">919</text>\n",
       "</g>\n",
       "<!-- a -->\n",
       "<g id=\"node1\" class=\"node\">\n",
       "<title>a</title>\n",
       "<ellipse fill=\"none\" stroke=\"#000000\" cx=\"186\" cy=\"-138\" rx=\"50.0056\" ry=\"18\"/>\n",
       "<text text-anchor=\"middle\" x=\"186\" y=\"-133.8\" font-family=\"Times,serif\" font-size=\"14.00\" fill=\"#000000\">a ~ Normal</text>\n",
       "</g>\n",
       "<!-- y -->\n",
       "<g id=\"node4\" class=\"node\">\n",
       "<title>y</title>\n",
       "<ellipse fill=\"#d3d3d3\" stroke=\"#000000\" cx=\"186\" cy=\"-56\" rx=\"50.9988\" ry=\"18\"/>\n",
       "<text text-anchor=\"middle\" x=\"186\" y=\"-51.8\" font-family=\"Times,serif\" font-size=\"14.00\" fill=\"#000000\">y ~ Normal</text>\n",
       "</g>\n",
       "<!-- a&#45;&gt;y -->\n",
       "<g id=\"edge1\" class=\"edge\">\n",
       "<title>a&#45;&gt;y</title>\n",
       "<path fill=\"none\" stroke=\"#000000\" d=\"M186,-119.8015C186,-109.3976 186,-96.1215 186,-84.3768\"/>\n",
       "<polygon fill=\"#000000\" stroke=\"#000000\" points=\"189.5001,-84.1476 186,-74.1476 182.5001,-84.1476 189.5001,-84.1476\"/>\n",
       "</g>\n",
       "<!-- b -->\n",
       "<g id=\"node2\" class=\"node\">\n",
       "<title>b</title>\n",
       "<ellipse fill=\"none\" stroke=\"#000000\" cx=\"67\" cy=\"-138\" rx=\"50.9988\" ry=\"18\"/>\n",
       "<text text-anchor=\"middle\" x=\"67\" y=\"-133.8\" font-family=\"Times,serif\" font-size=\"14.00\" fill=\"#000000\">b ~ Normal</text>\n",
       "</g>\n",
       "<!-- b&#45;&gt;y -->\n",
       "<g id=\"edge2\" class=\"edge\">\n",
       "<title>b&#45;&gt;y</title>\n",
       "<path fill=\"none\" stroke=\"#000000\" d=\"M86.4216,-121.2179C97.8955,-111.6239 112.8955,-99.6239 127,-90 133.8663,-85.3149 141.4117,-80.6386 148.7451,-76.3196\"/>\n",
       "<polygon fill=\"#000000\" stroke=\"#000000\" points=\"150.9397,-79.0943 157.8536,-71.0662 147.4424,-73.0305 150.9397,-79.0943\"/>\n",
       "</g>\n",
       "<!-- eps -->\n",
       "<g id=\"node3\" class=\"node\">\n",
       "<title>eps</title>\n",
       "<ellipse fill=\"none\" stroke=\"#000000\" cx=\"328\" cy=\"-138\" rx=\"73.6584\" ry=\"18\"/>\n",
       "<text text-anchor=\"middle\" x=\"328\" y=\"-133.8\" font-family=\"Times,serif\" font-size=\"14.00\" fill=\"#000000\">eps ~ HalfCauchy</text>\n",
       "</g>\n",
       "<!-- eps&#45;&gt;y -->\n",
       "<g id=\"edge3\" class=\"edge\">\n",
       "<title>eps&#45;&gt;y</title>\n",
       "<path fill=\"none\" stroke=\"#000000\" d=\"M300.3886,-121.0732C285.045,-111.7581 265.56,-100.0778 248,-90 240.032,-85.4271 231.4243,-80.6223 223.2318,-76.1119\"/>\n",
       "<polygon fill=\"#000000\" stroke=\"#000000\" points=\"224.6667,-72.9073 214.2148,-71.1728 221.3038,-79.0466 224.6667,-72.9073\"/>\n",
       "</g>\n",
       "</g>\n",
       "</svg>\n"
      ],
      "text/plain": [
       "<graphviz.dot.Digraph at 0x1198531d0>"
      ]
     },
     "execution_count": 24,
     "metadata": {},
     "output_type": "execute_result"
    }
   ],
   "source": [
    "pm.model_to_graphviz(unpooled_model)"
   ]
  },
  {
   "cell_type": "markdown",
   "metadata": {},
   "source": [
    "### We'll first use Metropolis updates"
   ]
  },
  {
   "cell_type": "code",
   "execution_count": 25,
   "metadata": {},
   "outputs": [
    {
     "name": "stderr",
     "output_type": "stream",
     "text": [
      "Multiprocess sampling (2 chains in 2 jobs)\n",
      "CompoundStep\n",
      ">Metropolis: [eps]\n",
      ">Metropolis: [b]\n",
      ">Metropolis: [a]\n",
      "Sampling 2 chains: 100%|██████████| 11000/11000 [00:03<00:00, 3523.66draws/s]\n",
      "The gelman-rubin statistic is larger than 1.4 for some parameters. The sampler did not converge.\n",
      "The estimated number of effective samples is smaller than 200 for some parameters.\n"
     ]
    }
   ],
   "source": [
    "with unpooled_model:\n",
    "    unpooled_trace_mh = pm.sample(5000, step=pm.Metropolis())"
   ]
  },
  {
   "cell_type": "markdown",
   "metadata": {},
   "source": [
    "#### As we can see, even 5000 Metropolis updates isn't enough to converge"
   ]
  },
  {
   "cell_type": "code",
   "execution_count": 26,
   "metadata": {},
   "outputs": [],
   "source": [
    "rhats_mh = pm.summary(unpooled_trace_mh).Rhat"
   ]
  },
  {
   "cell_type": "code",
   "execution_count": 27,
   "metadata": {},
   "outputs": [
    {
     "data": {
      "text/html": [
       "<div>\n",
       "<style scoped>\n",
       "    .dataframe tbody tr th:only-of-type {\n",
       "        vertical-align: middle;\n",
       "    }\n",
       "\n",
       "    .dataframe tbody tr th {\n",
       "        vertical-align: top;\n",
       "    }\n",
       "\n",
       "    .dataframe thead th {\n",
       "        text-align: right;\n",
       "    }\n",
       "</style>\n",
       "<table border=\"1\" class=\"dataframe\">\n",
       "  <thead>\n",
       "    <tr style=\"text-align: right;\">\n",
       "      <th></th>\n",
       "      <th>Rhat</th>\n",
       "    </tr>\n",
       "  </thead>\n",
       "  <tbody>\n",
       "    <tr>\n",
       "      <th>b__30</th>\n",
       "      <td>9.145250</td>\n",
       "    </tr>\n",
       "    <tr>\n",
       "      <th>b__71</th>\n",
       "      <td>7.438464</td>\n",
       "    </tr>\n",
       "    <tr>\n",
       "      <th>a__16</th>\n",
       "      <td>6.948815</td>\n",
       "    </tr>\n",
       "    <tr>\n",
       "      <th>a__22</th>\n",
       "      <td>6.652632</td>\n",
       "    </tr>\n",
       "    <tr>\n",
       "      <th>b__50</th>\n",
       "      <td>6.411092</td>\n",
       "    </tr>\n",
       "    <tr>\n",
       "      <th>a__55</th>\n",
       "      <td>4.623200</td>\n",
       "    </tr>\n",
       "    <tr>\n",
       "      <th>b__81</th>\n",
       "      <td>4.566689</td>\n",
       "    </tr>\n",
       "    <tr>\n",
       "      <th>b__73</th>\n",
       "      <td>4.120297</td>\n",
       "    </tr>\n",
       "    <tr>\n",
       "      <th>b__59</th>\n",
       "      <td>3.928216</td>\n",
       "    </tr>\n",
       "    <tr>\n",
       "      <th>b__16</th>\n",
       "      <td>3.673534</td>\n",
       "    </tr>\n",
       "  </tbody>\n",
       "</table>\n",
       "</div>"
      ],
      "text/plain": [
       "           Rhat\n",
       "b__30  9.145250\n",
       "b__71  7.438464\n",
       "a__16  6.948815\n",
       "a__22  6.652632\n",
       "b__50  6.411092\n",
       "a__55  4.623200\n",
       "b__81  4.566689\n",
       "b__73  4.120297\n",
       "b__59  3.928216\n",
       "b__16  3.673534"
      ]
     },
     "execution_count": 27,
     "metadata": {},
     "output_type": "execute_result"
    }
   ],
   "source": [
    "rhats_mh.to_frame().nlargest(10, 'Rhat')"
   ]
  },
  {
   "cell_type": "markdown",
   "metadata": {},
   "source": [
    "Random Walk Metropolis-Hastings often gives very slow convergence in complex models. In continuous settings, MH usually generates proposals by adding zero-mean Gaussian noise to each variable. The only tuning parameter is the variance of the noise. If the variance is too high, most of the proposals will be far away from where most of the probability mass is, landing in regions of low probability density, and most proposals will be rejected. If the variance is low, we'll accept more often, but it'll take a long time to go anywhere: the MH steps are exploring randomly and will exhibit random walk behavior. In one dimension, the distance traveled in $t$ steps grows as $O(\\sqrt{t})$. This only gets worse in higher dimensions."
   ]
  },
  {
   "cell_type": "markdown",
   "metadata": {},
   "source": [
    "#### Now, we'll use Hamiltonian Monte Carlo (HMC) along with the state-of-the-art NUTS (No-U-Turn-Sampler) modification. We won't get into the details of either in this class... "
   ]
  },
  {
   "cell_type": "markdown",
   "metadata": {},
   "source": [
    "...but since I can't resist, the basic idea is to avoid random walk behavior by making smarter proposals. These smarter proposals both travel far and have a high acceptance probability by adding \"momentum\" to the system at the beginning of each iteration and simulating Hamiltonian dynamics, with $-\\log(\\tilde{p}(x))$ as the potential energy (so more probable configurations have lower potential energy). The interplay between momentum and potential energy as the Hamiltonian dynamics goes on allows us to avoid low-probability (high potential-energy) regions, since the momentum decreases in those directions, but travel far, since we can simulate the dynamics as long as we want.\n",
    "\n",
    "Check out Michael Betancourt's [Youtube video](https://youtu.be/jUSZboSq1zg) for a great explanation with lots of visuals. If you use HMC/NUTS in practice, there are other good diagnostics that you can find in Gabry et. al.'s paper on [Visualization in Bayesian workflow](https://arxiv.org/abs/1709.01449)."
   ]
  },
  {
   "cell_type": "code",
   "execution_count": 28,
   "metadata": {},
   "outputs": [
    {
     "name": "stderr",
     "output_type": "stream",
     "text": [
      "Multiprocess sampling (2 chains in 2 jobs)\n",
      "NUTS: [eps, b, a]\n",
      "Sampling 2 chains: 100%|██████████| 11000/11000 [00:20<00:00, 542.63draws/s]\n"
     ]
    }
   ],
   "source": [
    "with unpooled_model:\n",
    "    unpooled_trace_nuts = pm.sample(5000, step=pm.NUTS())"
   ]
  },
  {
   "cell_type": "markdown",
   "metadata": {},
   "source": [
    "#### Much better!"
   ]
  },
  {
   "cell_type": "code",
   "execution_count": 29,
   "metadata": {},
   "outputs": [],
   "source": [
    "rhats_nuts = pm.summary(unpooled_trace_nuts).Rhat"
   ]
  },
  {
   "cell_type": "code",
   "execution_count": 30,
   "metadata": {},
   "outputs": [
    {
     "data": {
      "text/html": [
       "<div>\n",
       "<style scoped>\n",
       "    .dataframe tbody tr th:only-of-type {\n",
       "        vertical-align: middle;\n",
       "    }\n",
       "\n",
       "    .dataframe tbody tr th {\n",
       "        vertical-align: top;\n",
       "    }\n",
       "\n",
       "    .dataframe thead th {\n",
       "        text-align: right;\n",
       "    }\n",
       "</style>\n",
       "<table border=\"1\" class=\"dataframe\">\n",
       "  <thead>\n",
       "    <tr style=\"text-align: right;\">\n",
       "      <th></th>\n",
       "      <th>Rhat</th>\n",
       "    </tr>\n",
       "  </thead>\n",
       "  <tbody>\n",
       "    <tr>\n",
       "      <th>b__67</th>\n",
       "      <td>1.000479</td>\n",
       "    </tr>\n",
       "    <tr>\n",
       "      <th>b__46</th>\n",
       "      <td>1.000250</td>\n",
       "    </tr>\n",
       "    <tr>\n",
       "      <th>b__36</th>\n",
       "      <td>1.000231</td>\n",
       "    </tr>\n",
       "    <tr>\n",
       "      <th>b__72</th>\n",
       "      <td>1.000211</td>\n",
       "    </tr>\n",
       "    <tr>\n",
       "      <th>a__21</th>\n",
       "      <td>1.000206</td>\n",
       "    </tr>\n",
       "    <tr>\n",
       "      <th>b__37</th>\n",
       "      <td>1.000200</td>\n",
       "    </tr>\n",
       "    <tr>\n",
       "      <th>b__7</th>\n",
       "      <td>1.000177</td>\n",
       "    </tr>\n",
       "    <tr>\n",
       "      <th>a__39</th>\n",
       "      <td>1.000141</td>\n",
       "    </tr>\n",
       "    <tr>\n",
       "      <th>a__75</th>\n",
       "      <td>1.000137</td>\n",
       "    </tr>\n",
       "    <tr>\n",
       "      <th>a__46</th>\n",
       "      <td>1.000112</td>\n",
       "    </tr>\n",
       "  </tbody>\n",
       "</table>\n",
       "</div>"
      ],
      "text/plain": [
       "           Rhat\n",
       "b__67  1.000479\n",
       "b__46  1.000250\n",
       "b__36  1.000231\n",
       "b__72  1.000211\n",
       "a__21  1.000206\n",
       "b__37  1.000200\n",
       "b__7   1.000177\n",
       "a__39  1.000141\n",
       "a__75  1.000137\n",
       "a__46  1.000112"
      ]
     },
     "execution_count": 30,
     "metadata": {},
     "output_type": "execute_result"
    }
   ],
   "source": [
    "rhats_nuts.to_frame().nlargest(10, 'Rhat')"
   ]
  },
  {
   "cell_type": "markdown",
   "metadata": {},
   "source": [
    "## Second Model: pooled linear regression"
   ]
  },
  {
   "cell_type": "code",
   "execution_count": 31,
   "metadata": {},
   "outputs": [],
   "source": [
    "with pm.Model() as hierarchical_model:\n",
    "    # Hyperpriors for group nodes\n",
    "    mu_a = pm.Normal('mu_a', mu=0., sd=100**2)\n",
    "    sigma_a = pm.HalfCauchy('sigma_a', 5)\n",
    "    mu_b = pm.Normal('mu_b', mu=0., sd=100**2)\n",
    "    sigma_b = pm.HalfCauchy('sigma_b', 5)\n",
    "\n",
    "    # Intercept for each county, distributed around group mean mu_a\n",
    "    # Above we just set mu and sd to a fixed value while here we\n",
    "    # plug in a common group distribution for all a and b (which are\n",
    "    # vectors of length n_counties).\n",
    "    a = pm.Normal('a', mu=mu_a, sd=sigma_a, shape=n_counties)\n",
    "    # Intercept for each county, distributed around group mean mu_a\n",
    "    b = pm.Normal('b', mu=mu_b, sd=sigma_b, shape=n_counties)\n",
    "\n",
    "    # Model error\n",
    "    eps = pm.HalfCauchy('eps', 5)\n",
    "\n",
    "    radon_est = a[county_idx] + b[county_idx] * data.floor.values\n",
    "\n",
    "    # Data likelihood\n",
    "    radon_like = pm.Normal('radon_like', mu=radon_est, sd=eps, observed=data.log_radon)"
   ]
  },
  {
   "cell_type": "markdown",
   "metadata": {},
   "source": [
    "Notice what's changed: the $a$'s and $b$'s are no longer conditionally independent, but are each normals whose means and variances are themselves drawn from a latent distribution. This lets us share some statistical power across the counties, which is a sensible thing to do, especially for $b$, since we'd expect the presence of the basement to have similar effect regardless of county"
   ]
  },
  {
   "cell_type": "code",
   "execution_count": 32,
   "metadata": {},
   "outputs": [
    {
     "data": {
      "image/svg+xml": [
       "<?xml version=\"1.0\" encoding=\"UTF-8\" standalone=\"no\"?>\n",
       "<!DOCTYPE svg PUBLIC \"-//W3C//DTD SVG 1.1//EN\"\n",
       " \"http://www.w3.org/Graphics/SVG/1.1/DTD/svg11.dtd\">\n",
       "<!-- Generated by graphviz version 2.40.1 (20161225.0304)\n",
       " -->\n",
       "<!-- Title: %3 Pages: 1 -->\n",
       "<svg width=\"693pt\" height=\"236pt\"\n",
       " viewBox=\"0.00 0.00 693.45 236.00\" xmlns=\"http://www.w3.org/2000/svg\" xmlns:xlink=\"http://www.w3.org/1999/xlink\">\n",
       "<g id=\"graph0\" class=\"graph\" transform=\"scale(1 1) rotate(0) translate(4 232)\">\n",
       "<title>%3</title>\n",
       "<polygon fill=\"#ffffff\" stroke=\"transparent\" points=\"-4,4 -4,-232 689.4453,-232 689.4453,4 -4,4\"/>\n",
       "<g id=\"clust1\" class=\"cluster\">\n",
       "<title>cluster85</title>\n",
       "<path fill=\"none\" stroke=\"#000000\" d=\"M236.471,-90C236.471,-90 448.471,-90 448.471,-90 454.471,-90 460.471,-96 460.471,-102 460.471,-102 460.471,-152 460.471,-152 460.471,-158 454.471,-164 448.471,-164 448.471,-164 236.471,-164 236.471,-164 230.471,-164 224.471,-158 224.471,-152 224.471,-152 224.471,-102 224.471,-102 224.471,-96 230.471,-90 236.471,-90\"/>\n",
       "<text text-anchor=\"middle\" x=\"445.471\" y=\"-96.8\" font-family=\"Times,serif\" font-size=\"14.00\" fill=\"#000000\">85</text>\n",
       "</g>\n",
       "<g id=\"clust2\" class=\"cluster\">\n",
       "<title>cluster919</title>\n",
       "<path fill=\"none\" stroke=\"#000000\" d=\"M322.471,-8C322.471,-8 482.471,-8 482.471,-8 488.471,-8 494.471,-14 494.471,-20 494.471,-20 494.471,-70 494.471,-70 494.471,-76 488.471,-82 482.471,-82 482.471,-82 322.471,-82 322.471,-82 316.471,-82 310.471,-76 310.471,-70 310.471,-70 310.471,-20 310.471,-20 310.471,-14 316.471,-8 322.471,-8\"/>\n",
       "<text text-anchor=\"middle\" x=\"475.971\" y=\"-14.8\" font-family=\"Times,serif\" font-size=\"14.00\" fill=\"#000000\">919</text>\n",
       "</g>\n",
       "<!-- mu_b -->\n",
       "<g id=\"node1\" class=\"node\">\n",
       "<title>mu_b</title>\n",
       "<ellipse fill=\"none\" stroke=\"#000000\" cx=\"66.471\" cy=\"-210\" rx=\"66.4419\" ry=\"18\"/>\n",
       "<text text-anchor=\"middle\" x=\"66.471\" y=\"-205.8\" font-family=\"Times,serif\" font-size=\"14.00\" fill=\"#000000\">mu_b ~ Normal</text>\n",
       "</g>\n",
       "<!-- b -->\n",
       "<g id=\"node7\" class=\"node\">\n",
       "<title>b</title>\n",
       "<ellipse fill=\"none\" stroke=\"#000000\" cx=\"283.471\" cy=\"-138\" rx=\"50.9988\" ry=\"18\"/>\n",
       "<text text-anchor=\"middle\" x=\"283.471\" y=\"-133.8\" font-family=\"Times,serif\" font-size=\"14.00\" fill=\"#000000\">b ~ Normal</text>\n",
       "</g>\n",
       "<!-- mu_b&#45;&gt;b -->\n",
       "<g id=\"edge4\" class=\"edge\">\n",
       "<title>mu_b&#45;&gt;b</title>\n",
       "<path fill=\"none\" stroke=\"#000000\" d=\"M108.568,-196.0323C145.2258,-183.8694 198.3149,-166.2545 236.3753,-153.6262\"/>\n",
       "<polygon fill=\"#000000\" stroke=\"#000000\" points=\"237.8073,-156.8388 246.1963,-150.3676 235.6028,-150.1949 237.8073,-156.8388\"/>\n",
       "</g>\n",
       "<!-- sigma_b -->\n",
       "<g id=\"node2\" class=\"node\">\n",
       "<title>sigma_b</title>\n",
       "<ellipse fill=\"none\" stroke=\"#000000\" cx=\"242.471\" cy=\"-210\" rx=\"92.0164\" ry=\"18\"/>\n",
       "<text text-anchor=\"middle\" x=\"242.471\" y=\"-205.8\" font-family=\"Times,serif\" font-size=\"14.00\" fill=\"#000000\">sigma_b ~ HalfCauchy</text>\n",
       "</g>\n",
       "<!-- sigma_b&#45;&gt;b -->\n",
       "<g id=\"edge3\" class=\"edge\">\n",
       "<title>sigma_b&#45;&gt;b</title>\n",
       "<path fill=\"none\" stroke=\"#000000\" d=\"M252.817,-191.8314C257.4651,-183.6688 263.045,-173.87 268.1627,-164.8827\"/>\n",
       "<polygon fill=\"#000000\" stroke=\"#000000\" points=\"271.3633,-166.3352 273.2703,-155.9134 265.2804,-162.8713 271.3633,-166.3352\"/>\n",
       "</g>\n",
       "<!-- sigma_a -->\n",
       "<g id=\"node3\" class=\"node\">\n",
       "<title>sigma_a</title>\n",
       "<ellipse fill=\"none\" stroke=\"#000000\" cx=\"444.471\" cy=\"-210\" rx=\"91.5232\" ry=\"18\"/>\n",
       "<text text-anchor=\"middle\" x=\"444.471\" y=\"-205.8\" font-family=\"Times,serif\" font-size=\"14.00\" fill=\"#000000\">sigma_a ~ HalfCauchy</text>\n",
       "</g>\n",
       "<!-- a -->\n",
       "<g id=\"node6\" class=\"node\">\n",
       "<title>a</title>\n",
       "<ellipse fill=\"none\" stroke=\"#000000\" cx=\"402.471\" cy=\"-138\" rx=\"50.0056\" ry=\"18\"/>\n",
       "<text text-anchor=\"middle\" x=\"402.471\" y=\"-133.8\" font-family=\"Times,serif\" font-size=\"14.00\" fill=\"#000000\">a ~ Normal</text>\n",
       "</g>\n",
       "<!-- sigma_a&#45;&gt;a -->\n",
       "<g id=\"edge2\" class=\"edge\">\n",
       "<title>sigma_a&#45;&gt;a</title>\n",
       "<path fill=\"none\" stroke=\"#000000\" d=\"M433.8726,-191.8314C429.061,-183.5829 423.2747,-173.6635 417.9872,-164.5992\"/>\n",
       "<polygon fill=\"#000000\" stroke=\"#000000\" points=\"420.9824,-162.7876 412.9205,-155.9134 414.936,-166.3148 420.9824,-162.7876\"/>\n",
       "</g>\n",
       "<!-- eps -->\n",
       "<g id=\"node4\" class=\"node\">\n",
       "<title>eps</title>\n",
       "<ellipse fill=\"none\" stroke=\"#000000\" cx=\"544.471\" cy=\"-138\" rx=\"73.6584\" ry=\"18\"/>\n",
       "<text text-anchor=\"middle\" x=\"544.471\" y=\"-133.8\" font-family=\"Times,serif\" font-size=\"14.00\" fill=\"#000000\">eps ~ HalfCauchy</text>\n",
       "</g>\n",
       "<!-- radon_like -->\n",
       "<g id=\"node8\" class=\"node\">\n",
       "<title>radon_like</title>\n",
       "<ellipse fill=\"#d3d3d3\" stroke=\"#000000\" cx=\"402.471\" cy=\"-56\" rx=\"84.2901\" ry=\"18\"/>\n",
       "<text text-anchor=\"middle\" x=\"402.471\" y=\"-51.8\" font-family=\"Times,serif\" font-size=\"14.00\" fill=\"#000000\">radon_like ~ Normal</text>\n",
       "</g>\n",
       "<!-- eps&#45;&gt;radon_like -->\n",
       "<g id=\"edge7\" class=\"edge\">\n",
       "<title>eps&#45;&gt;radon_like</title>\n",
       "<path fill=\"none\" stroke=\"#000000\" d=\"M516.8595,-121.0732C501.516,-111.7581 482.031,-100.0778 464.471,-90 457.5086,-86.0043 450.0579,-81.8315 442.8225,-77.8328\"/>\n",
       "<polygon fill=\"#000000\" stroke=\"#000000\" points=\"444.2751,-74.6373 433.8258,-72.8873 440.903,-80.7716 444.2751,-74.6373\"/>\n",
       "</g>\n",
       "<!-- mu_a -->\n",
       "<g id=\"node5\" class=\"node\">\n",
       "<title>mu_a</title>\n",
       "<ellipse fill=\"none\" stroke=\"#000000\" cx=\"619.471\" cy=\"-210\" rx=\"65.9488\" ry=\"18\"/>\n",
       "<text text-anchor=\"middle\" x=\"619.471\" y=\"-205.8\" font-family=\"Times,serif\" font-size=\"14.00\" fill=\"#000000\">mu_a ~ Normal</text>\n",
       "</g>\n",
       "<!-- mu_a&#45;&gt;a -->\n",
       "<g id=\"edge1\" class=\"edge\">\n",
       "<title>mu_a&#45;&gt;a</title>\n",
       "<path fill=\"none\" stroke=\"#000000\" d=\"M570.883,-197.6347C539.3579,-189.177 497.5779,-177.147 461.471,-164 455.3278,-161.7632 448.9167,-159.1937 442.6796,-156.5597\"/>\n",
       "<polygon fill=\"#000000\" stroke=\"#000000\" points=\"443.6528,-153.1672 433.0854,-152.4061 440.8717,-159.591 443.6528,-153.1672\"/>\n",
       "</g>\n",
       "<!-- a&#45;&gt;radon_like -->\n",
       "<g id=\"edge5\" class=\"edge\">\n",
       "<title>a&#45;&gt;radon_like</title>\n",
       "<path fill=\"none\" stroke=\"#000000\" d=\"M402.471,-119.8015C402.471,-109.3976 402.471,-96.1215 402.471,-84.3768\"/>\n",
       "<polygon fill=\"#000000\" stroke=\"#000000\" points=\"405.9711,-84.1476 402.471,-74.1476 398.9711,-84.1476 405.9711,-84.1476\"/>\n",
       "</g>\n",
       "<!-- b&#45;&gt;radon_like -->\n",
       "<g id=\"edge6\" class=\"edge\">\n",
       "<title>b&#45;&gt;radon_like</title>\n",
       "<path fill=\"none\" stroke=\"#000000\" d=\"M302.8926,-121.2179C314.3665,-111.6239 329.3665,-99.6239 343.471,-90 349.5133,-85.8771 356.0815,-81.761 362.5684,-77.8893\"/>\n",
       "<polygon fill=\"#000000\" stroke=\"#000000\" points=\"364.4383,-80.8504 371.3066,-72.7833 360.9068,-74.8065 364.4383,-80.8504\"/>\n",
       "</g>\n",
       "</g>\n",
       "</svg>\n"
      ],
      "text/plain": [
       "<graphviz.dot.Digraph at 0x11c518ac8>"
      ]
     },
     "execution_count": 32,
     "metadata": {},
     "output_type": "execute_result"
    }
   ],
   "source": [
    "pm.model_to_graphviz(hierarchical_model)"
   ]
  },
  {
   "cell_type": "code",
   "execution_count": 33,
   "metadata": {},
   "outputs": [
    {
     "name": "stderr",
     "output_type": "stream",
     "text": [
      "Auto-assigning NUTS sampler...\n",
      "Initializing NUTS using jitter+adapt_diag...\n",
      "Multiprocess sampling (2 chains in 2 jobs)\n",
      "NUTS: [eps, b, a, sigma_b, mu_b, sigma_a, mu_a]\n",
      "Sampling 2 chains: 100%|██████████| 11000/11000 [01:14<00:00, 59.93draws/s] \n",
      "The acceptance probability does not match the target. It is 0.9315028626258562, but should be close to 0.8. Try to increase the number of tuning steps.\n",
      "There were 19 divergences after tuning. Increase `target_accept` or reparameterize.\n",
      "The estimated number of effective samples is smaller than 200 for some parameters.\n"
     ]
    }
   ],
   "source": [
    "with hierarchical_model:\n",
    "    hierarchical_trace = pm.sample(5000, n_init=1000)"
   ]
  },
  {
   "cell_type": "markdown",
   "metadata": {},
   "source": [
    "#### There are many ways to compare the performance of these models - we'll look at some of the ones that PyMC3 provides by default. WAIC is a type of *information criterion* , so like BIC (Bayesian Information Criterion), it generally it tells us how good the predictive performance is versus the number of parameters. A lower value is better."
   ]
  },
  {
   "cell_type": "markdown",
   "metadata": {},
   "source": [
    "Unfortunately, PyMC3 uses the order of the models in the dictionary to specify the index in the dataframe: in this case, the hierarchical model has index 1 and the unpooled model has index 0. The hierarchical model is indeed better."
   ]
  },
  {
   "cell_type": "code",
   "execution_count": 34,
   "metadata": {},
   "outputs": [
    {
     "name": "stderr",
     "output_type": "stream",
     "text": [
      "/Users/chandlersquires/Documents/6438-mcmc-case-study/venv/lib/python3.6/site-packages/pymc3/stats.py:211: UserWarning: For one or more samples the posterior variance of the\n",
      "        log predictive densities exceeds 0.4. This could be indication of\n",
      "        WAIC starting to fail see http://arxiv.org/abs/1507.04544 for details\n",
      "        \n",
      "  \"\"\")\n"
     ]
    },
    {
     "data": {
      "text/html": [
       "<div>\n",
       "<style scoped>\n",
       "    .dataframe tbody tr th:only-of-type {\n",
       "        vertical-align: middle;\n",
       "    }\n",
       "\n",
       "    .dataframe tbody tr th {\n",
       "        vertical-align: top;\n",
       "    }\n",
       "\n",
       "    .dataframe thead th {\n",
       "        text-align: right;\n",
       "    }\n",
       "</style>\n",
       "<table border=\"1\" class=\"dataframe\">\n",
       "  <thead>\n",
       "    <tr style=\"text-align: right;\">\n",
       "      <th></th>\n",
       "      <th>WAIC</th>\n",
       "      <th>pWAIC</th>\n",
       "      <th>dWAIC</th>\n",
       "      <th>weight</th>\n",
       "      <th>SE</th>\n",
       "      <th>dSE</th>\n",
       "      <th>var_warn</th>\n",
       "    </tr>\n",
       "  </thead>\n",
       "  <tbody>\n",
       "    <tr>\n",
       "      <th>1</th>\n",
       "      <td>2075.02</td>\n",
       "      <td>65.85</td>\n",
       "      <td>0</td>\n",
       "      <td>0.92</td>\n",
       "      <td>57.37</td>\n",
       "      <td>0</td>\n",
       "      <td>1</td>\n",
       "    </tr>\n",
       "    <tr>\n",
       "      <th>0</th>\n",
       "      <td>2159.3</td>\n",
       "      <td>131.13</td>\n",
       "      <td>84.27</td>\n",
       "      <td>0.08</td>\n",
       "      <td>59.35</td>\n",
       "      <td>20.49</td>\n",
       "      <td>1</td>\n",
       "    </tr>\n",
       "  </tbody>\n",
       "</table>\n",
       "</div>"
      ],
      "text/plain": [
       "      WAIC   pWAIC  dWAIC weight     SE    dSE var_warn\n",
       "1  2075.02   65.85      0   0.92  57.37      0        1\n",
       "0   2159.3  131.13  84.27   0.08  59.35  20.49        1"
      ]
     },
     "execution_count": 34,
     "metadata": {},
     "output_type": "execute_result"
    }
   ],
   "source": [
    "pm.compare({unpooled_model: unpooled_trace_nuts, hierarchical_model: hierarchical_trace})"
   ]
  }
 ],
 "metadata": {
  "kernelspec": {
   "display_name": "mcmc-case-study",
   "language": "python",
   "name": "mcmc-case-study"
  },
  "language_info": {
   "codemirror_mode": {
    "name": "ipython",
    "version": 3
   },
   "file_extension": ".py",
   "mimetype": "text/x-python",
   "name": "python",
   "nbconvert_exporter": "python",
   "pygments_lexer": "ipython3",
   "version": "3.6.5"
  }
 },
 "nbformat": 4,
 "nbformat_minor": 2
}
